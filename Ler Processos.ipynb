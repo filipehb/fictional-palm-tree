{
 "cells": [
  {
   "cell_type": "markdown",
   "metadata": {},
   "source": [
    "Importa bibliotecas"
   ]
  },
  {
   "cell_type": "code",
   "execution_count": null,
   "metadata": {},
   "outputs": [],
   "source": [
    "from PIL import Image\n",
    "import pytesseract as pyt\n",
    "import cv2\n",
    "import os"
   ]
  },
  {
   "cell_type": "code",
   "execution_count": null,
   "metadata": {},
   "outputs": [],
   "source": [
    "#carrega a imagem colorida\n",
    "imagem = cv2.imread(\"texto.png\")\n",
    "    \n",
    "#salva a imagem em um arquivo temporário do Windows para aplicar OCR\n",
    "filenameImagem = \"{}.png\".format(os.getpid())\n",
    "cv2.imwrite(filenameImagem, imagem)\n",
    "    \n",
    "#carrega a imagem usando a biblioteca PIL/Pillow e aplica OCR\n",
    "texto = pyt.image_to_string(Image.open(filenameImagem))\n",
    "\n",
    "#deleta arquivo temporário\n",
    "os.remove(filenameImagem)\n",
    "    \n",
    "print(\"Texto: \" + texto)"
   ]
  }
 ],
 "metadata": {
  "kernelspec": {
   "display_name": "Python 3",
   "language": "python",
   "name": "python3"
  },
  "language_info": {
   "codemirror_mode": {
    "name": "ipython",
    "version": 3
   },
   "file_extension": ".py",
   "mimetype": "text/x-python",
   "name": "python",
   "nbconvert_exporter": "python",
   "pygments_lexer": "ipython3",
   "version": "3.6.6"
  }
 },
 "nbformat": 4,
 "nbformat_minor": 2
}
